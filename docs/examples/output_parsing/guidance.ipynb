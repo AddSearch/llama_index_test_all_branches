{
 "cells": [
  {
   "cell_type": "markdown",
   "id": "c58e17b3-ec09-4e07-8e2e-d19a8e24dd40",
   "metadata": {
    "tags": []
   },
   "source": [
    "# Guidance"
   ]
  },
  {
   "cell_type": "code",
   "execution_count": 1,
   "id": "85b9e1d3-2f60-4730-8186-7c3c30b6dae5",
   "metadata": {
    "tags": []
   },
   "outputs": [],
   "source": [
    "from llama_index.question_gen.guidance_generator import GuidanceQuestionGenerator\n",
    "from llama_index.tools import ToolMetadata\n",
    "from llama_index import QueryBundle"
   ]
  },
  {
   "cell_type": "code",
   "execution_count": 2,
   "id": "0df7f8ad-c026-4bfc-9a12-52efcb24f9d5",
   "metadata": {
    "tags": []
   },
   "outputs": [
    {
     "name": "stdout",
     "output_type": "stream",
     "text": [
      "Requirement already satisfied: ruamel-yaml in /Users/suo/miniconda3/envs/llama/lib/python3.9/site-packages (0.17.22)\n",
      "Requirement already satisfied: ruamel.yaml.clib>=0.2.6 in /Users/suo/miniconda3/envs/llama/lib/python3.9/site-packages (from ruamel-yaml) (0.2.7)\n"
     ]
    }
   ],
   "source": [
    "question_gen = GuidanceQuestionGenerator.from_defaults()"
   ]
  },
  {
   "cell_type": "code",
   "execution_count": 3,
   "id": "77106a07-bccf-471d-8d85-c6438772cf35",
   "metadata": {
    "tags": []
   },
   "outputs": [],
   "source": [
    "metadata = ToolMetadata(name='lyft_10k', description='Provides information about Lyft financials for year 2021')"
   ]
  },
  {
   "cell_type": "code",
   "execution_count": 4,
   "id": "82ed271a-bd0d-4b6a-b9e3-987d75f6a4ad",
   "metadata": {
    "tags": []
   },
   "outputs": [
    {
     "data": {
      "text/html": [
       "<div id=\"guidance-stop-button-e27ca1c7-dea9-45e7-a2b9-bcee99fc80a3\" style=\"cursor: pointer; margin: 0px; display: none; float: right; padding: 3px; border-radius: 4px 4px 4px 4px; border: 0px solid rgba(127, 127, 127, 1); padding-left: 10px; padding-right: 10px; font-size: 13px; background-color: rgba(127, 127, 127, 0.25);\">Stop program</div><div id=\"guidance-content-e27ca1c7-dea9-45e7-a2b9-bcee99fc80a3\"><pre style='margin: 0px; padding: 0px; padding-left: 8px; margin-left: -8px; border-radius: 0px; border-left: 1px solid rgba(127, 127, 127, 0.2); white-space: pre-wrap; font-family: ColfaxAI, Arial; font-size: 15px; line-height: 23px;'>Given a user question, and a list of tools, output a list of relevant sub-questions that when composed can help answer the full user question:\n",
       "\n",
       "# Example 1\n",
       "&lt;Tools&gt;\n",
       "```json\n",
       "{\n",
       "    &quot;uber_10k&quot;: &quot;Provides information about Uber financials for year 2021&quot;,\n",
       "    &quot;lyft_10k&quot;: &quot;Provides information about Lyft financials for year 2021&quot;\n",
       "}\n",
       "```\n",
       "\n",
       "&lt;User Question&gt;\n",
       "Compare and contrast the revenue growth and EBITDA of Uber and Lyft for year 2021\n",
       "\n",
       "\n",
       "&lt;Output&gt;\n",
       "```json\n",
       "[\n",
       "    {\n",
       "        &quot;sub_question&quot;: &quot;What is the revenue growth of Uber&quot;,\n",
       "        &quot;tool_name&quot;: &quot;uber_10k&quot;\n",
       "    },\n",
       "    {\n",
       "        &quot;sub_question&quot;: &quot;What is the EBITDA of Uber&quot;,\n",
       "        &quot;tool_name&quot;: &quot;uber_10k&quot;\n",
       "    },\n",
       "    {\n",
       "        &quot;sub_question&quot;: &quot;What is the revenue growth of Lyft&quot;,\n",
       "        &quot;tool_name&quot;: &quot;lyft_10k&quot;\n",
       "    },\n",
       "    {\n",
       "        &quot;sub_question&quot;: &quot;What is the EBITDA of Lyft&quot;,\n",
       "        &quot;tool_name&quot;: &quot;lyft_10k&quot;\n",
       "    }\n",
       "]\n",
       "```\n",
       "\n",
       "# Example 2\n",
       "&lt;Tools&gt;\n",
       "```json\n",
       "<span style='background-color: rgba(0, 138.56128016, 250.76166089, 0.25); display: inline;' title='{{tools_str}}'>{\n",
       "    &quot;lyft_10k&quot;: &quot;Provides information about Lyft financials for year 2021&quot;\n",
       "}</span>\n",
       "```\n",
       "\n",
       "&lt;User Question&gt;\n",
       "<span style='background-color: rgba(0, 138.56128016, 250.76166089, 0.25); display: inline;' title='{{query_str}}'>What is lyft financial in 2021</span>\n",
       "\n",
       "&lt;Output&gt;\n",
       "\n",
       "```json\n",
       "{\n",
       "  &quot;sub_questions&quot;: [<span style='opacity: 1.0; display: inline; background-color: rgba(165, 165, 165, 0.1);' title='{{#geneach &#x27;sub_questions&#x27; stop=&#x27;]&#x27;}}{{#unless @first}}, {{/unless}}{\n",
       "  &quot;sub_question&quot;: &quot;{{gen &#x27;sub_question&#x27; stop=&#x27;&quot;&#x27;}}&quot;,\n",
       "  &quot;tool_name&quot;: &quot;{{gen &#x27;tool_name&#x27; stop=&#x27;&quot;&#x27;}}&quot;,\n",
       "}{{/geneach}}'><span style='background-color: rgba(0, 138.56128016, 250.76166089, 0.25); display: inline;' title='{{#unless @first}}, {{/unless}}'></span>{\n",
       "  &quot;sub_question&quot;: &quot;<span style='background-color: rgba(0, 165, 0, 0.25); opacity: 1.0; display: inline;' title='{{gen &#x27;sub_question&#x27; stop=&#x27;&quot;&#x27;}}'>What is the revenue of Lyft</span>&quot;,\n",
       "  &quot;tool_name&quot;: &quot;<span style='background-color: rgba(0, 165, 0, 0.25); opacity: 1.0; display: inline;' title='{{gen &#x27;tool_name&#x27; stop=&#x27;&quot;&#x27;}}'>lyft_10k</span>&quot;,\n",
       "}<span style='background-color: rgba(0, 138.56128016, 250.76166089, 0.25); display: inline;' title='{{#unless @first}}, {{/unless}}'>, </span>{\n",
       "  &quot;sub_question&quot;: &quot;<span style='background-color: rgba(0, 165, 0, 0.25); opacity: 1.0; display: inline;' title='{{gen &#x27;sub_question&#x27; stop=&#x27;&quot;&#x27;}}'>What is the EBITDA of Lyft</span>&quot;,\n",
       "  &quot;tool_name&quot;: &quot;<span style='background-color: rgba(0, 165, 0, 0.25); opacity: 1.0; display: inline;' title='{{gen &#x27;tool_name&#x27; stop=&#x27;&quot;&#x27;}}'>lyft_10k</span>&quot;,\n",
       "}</span>],\n",
       "}\n",
       "```</pre></div>\n",
       "<script type=\"text/javascript\">(()=>{var t={296:(t,e,n)=>{var i=NaN,o=\"[object Symbol]\",r=/^\\s+|\\s+$/g,a=/^[-+]0x[0-9a-f]+$/i,s=/^0b[01]+$/i,c=/^0o[0-7]+$/i,d=parseInt,u=\"object\"==typeof n.g&&n.g&&n.g.Object===Object&&n.g,l=\"object\"==typeof self&&self&&self.Object===Object&&self,f=u||l||Function(\"return this\")(),h=Object.prototype.toString,p=Math.max,m=Math.min,g=function(){return f.Date.now()};function b(t){var e=typeof t;return!!t&&(\"object\"==e||\"function\"==e)}function y(t){if(\"number\"==typeof t)return t;if(function(t){return\"symbol\"==typeof t||function(t){return!!t&&\"object\"==typeof t}(t)&&h.call(t)==o}(t))return i;if(b(t)){var e=\"function\"==typeof t.valueOf?t.valueOf():t;t=b(e)?e+\"\":e}if(\"string\"!=typeof t)return 0===t?t:+t;t=t.replace(r,\"\");var n=s.test(t);return n||c.test(t)?d(t.slice(2),n?2:8):a.test(t)?i:+t}t.exports=function(t,e,n){var i,o,r,a,s,c,d=0,u=!1,l=!1,f=!0;if(\"function\"!=typeof t)throw new TypeError(\"Expected a function\");function h(e){var n=i,r=o;return i=o=void 0,d=e,a=t.apply(r,n)}function v(t){var n=t-c;return void 0===c||n>=e||n<0||l&&t-d>=r}function _(){var t=g();if(v(t))return w(t);s=setTimeout(_,function(t){var n=e-(t-c);return l?m(n,r-(t-d)):n}(t))}function w(t){return s=void 0,f&&i?h(t):(i=o=void 0,a)}function j(){var t=g(),n=v(t);if(i=arguments,o=this,c=t,n){if(void 0===s)return function(t){return d=t,s=setTimeout(_,e),u?h(t):a}(c);if(l)return s=setTimeout(_,e),h(c)}return void 0===s&&(s=setTimeout(_,e)),a}return e=y(e)||0,b(n)&&(u=!!n.leading,r=(l=\"maxWait\"in n)?p(y(n.maxWait)||0,e):r,f=\"trailing\"in n?!!n.trailing:f),j.cancel=function(){void 0!==s&&clearTimeout(s),d=0,i=c=o=s=void 0},j.flush=function(){return void 0===s?a:w(g())},j}},777:t=>{var e,n,i=Math.max,o=(e=function(t,e){return function(t,e,n){if(\"function\"!=typeof t)throw new TypeError(\"Expected a function\");return setTimeout((function(){t.apply(void 0,n)}),1)}(t,0,e)},n=i(void 0===n?e.length-1:n,0),function(){for(var t=arguments,o=-1,r=i(t.length-n,0),a=Array(r);++o<r;)a[o]=t[n+o];o=-1;for(var s=Array(n+1);++o<n;)s[o]=t[o];return s[n]=a,function(t,e,n){switch(n.length){case 0:return t.call(e);case 1:return t.call(e,n[0]);case 2:return t.call(e,n[0],n[1]);case 3:return t.call(e,n[0],n[1],n[2])}return t.apply(e,n)}(e,this,s)});t.exports=o}},e={};function n(i){var o=e[i];if(void 0!==o)return o.exports;var r=e[i]={exports:{}};return t[i](r,r.exports,n),r.exports}n.n=t=>{var e=t&&t.__esModule?()=>t.default:()=>t;return n.d(e,{a:e}),e},n.d=(t,e)=>{for(var i in e)n.o(e,i)&&!n.o(t,i)&&Object.defineProperty(t,i,{enumerable:!0,get:e[i]})},n.g=function(){if(\"object\"==typeof globalThis)return globalThis;try{return this||new Function(\"return this\")()}catch(t){if(\"object\"==typeof window)return window}}(),n.o=(t,e)=>Object.prototype.hasOwnProperty.call(t,e),(()=>{\"use strict\";const t=t=>{const e=new Set;do{for(const n of Reflect.ownKeys(t))e.add([t,n])}while((t=Reflect.getPrototypeOf(t))&&t!==Object.prototype);return e};function e(e,{include:n,exclude:i}={}){const o=t=>{const e=e=>\"string\"==typeof e?t===e:e.test(t);return n?n.some(e):!i||!i.some(e)};for(const[n,i]of t(e.constructor.prototype)){if(\"constructor\"===i||!o(i))continue;const t=Reflect.getOwnPropertyDescriptor(n,i);t&&\"function\"==typeof t.value&&(e[i]=e[i].bind(e))}return e}var i=n(777),o=n.n(i),r=n(296),a=n.n(r);class s{constructor(t,n){e(this),this.interfaceId=t,this.callbackMap={},this.data={},this.pendingData={},this.jcomm=new c(\"guidance_interface_target_\"+this.interfaceId,this.updateData,\"open\"),this.debouncedSendPendingData500=a()(this.sendPendingData,500),this.debouncedSendPendingData1000=a()(this.sendPendingData,1e3),n&&o()(n)}send(t,e){this.addPendingData(t,e),this.sendPendingData()}sendEvent(t){for(const e of Object.keys(t))this.addPendingData(e,t[e]);this.sendPendingData()}debouncedSendEvent500(t){for(const e of Object.keys(t))this.addPendingData(e,t[e]);this.debouncedSendPendingData500()}debouncedSend500(t,e){this.addPendingData(t,e),this.debouncedSendPendingData500()}debouncedSend1000(t,e){this.addPendingData(t,e),this.debouncedSendPendingData1000()}addPendingData(t,e){Array.isArray(t)||(t=[t]);for(const n in t)this.pendingData[t[n]]=e}updateData(t){t=JSON.parse(t.data);for(const e in t)this.data[e]=t[e];for(const e in t)e in this.callbackMap&&this.callbackMap[e](this.data[e])}subscribe(t,e){this.callbackMap[t]=e,o()((e=>this.callbackMap[t](this.data[t])))}sendPendingData(){this.jcomm.send_data(this.pendingData),this.pendingData={}}}class c{constructor(t,e,n=\"open\"){this._fire_callback=this._fire_callback.bind(this),this._register=this._register.bind(this),this.jcomm=void 0,this.callback=e,void 0!==window.Jupyter?\"register\"===n?Jupyter.notebook.kernel.comm_manager.register_target(t,this._register):(this.jcomm=Jupyter.notebook.kernel.comm_manager.new_comm(t),this.jcomm.on_msg(this._fire_callback)):void 0!==window._mgr&&(\"register\"===n?window._mgr.widgetManager.proxyKernel.registerCommTarget(t,this._register):(this.jcomm=window._mgr.widgetManager.proxyKernel.createComm(t),this.jcomm.open({},\"\"),this.jcomm.onMsg=this._fire_callback))}send_data(t){void 0!==this.jcomm?this.jcomm.send(t):console.error(\"Jupyter comm module not yet loaded! So we can't send the message.\")}_register(t,e){this.jcomm=t,this.jcomm.on_msg(this._fire_callback)}_fire_callback(t){this.callback(t.content.data)}}class d{constructor(t,n){e(this),this.id=t,this.comm=new s(t),this.comm.subscribe(\"append\",this.appendData),this.comm.subscribe(\"replace\",this.replaceData),this.comm.subscribe(\"event\",this.eventOccurred),this.element=document.getElementById(\"guidance-content-\"+t),this.stop_button=document.getElementById(\"guidance-stop-button-\"+t),this.stop_button.onclick=()=>this.comm.send(\"event\",\"stop\")}appendData(t){t&&(this.stop_button.style.display=\"inline-block\",this.element.innerHTML+=t)}replaceData(t){t&&(this.stop_button.style.display=\"inline-block\",this.element.innerHTML=t)}eventOccurred(t){\"complete\"===t&&(this.stop_button.style.display=\"none\")}}window._guidanceDisplay=function(t,e){return new d(t,e)}})()})();; window._guidanceDisplay(\"e27ca1c7-dea9-45e7-a2b9-bcee99fc80a3\");</script>"
      ]
     },
     "metadata": {},
     "output_type": "display_data"
    },
    {
     "data": {
      "text/plain": [
       "SubQuestionList(sub_questions=[SubQuestion(sub_question='What is the revenue of Lyft', tool_name='lyft_10k'), SubQuestion(sub_question='What is the EBITDA of Lyft', tool_name='lyft_10k')])"
      ]
     },
     "execution_count": 4,
     "metadata": {},
     "output_type": "execute_result"
    }
   ],
   "source": [
    "question_gen.generate(tools=[metadata], query=QueryBundle('What is lyft financial in 2021'))"
   ]
  },
  {
   "cell_type": "code",
   "execution_count": 5,
   "id": "8701ed6d-d355-4339-8c65-2413e9b43a73",
   "metadata": {
    "tags": []
   },
   "outputs": [
    {
     "data": {
      "text/plain": [
       "'\\n\\n```json\\n{\\n  \"sub_questions\": [{{#geneach \\'sub_questions\\' stop=\\']\\'}}{{#unless @first}}, {{/unless}}{\\n  \"sub_question\": \"{{gen \\'sub_question\\' stop=\\'\"\\'}}\",\\n  \"tool_name\": \"{{gen \\'tool_name\\' stop=\\'\"\\'}}\",\\n}{{/geneach}}],\\n}\\n```'"
      ]
     },
     "execution_count": 5,
     "metadata": {},
     "output_type": "execute_result"
    }
   ],
   "source": [
    "question_gen._guidance_program.text.split('<Output>')[-1]"
   ]
  },
  {
   "cell_type": "code",
   "execution_count": 6,
   "id": "eddbd324-5795-4cff-8b78-f6fbb1559887",
   "metadata": {
    "tags": []
   },
   "outputs": [],
   "source": [
    "from llama_index.question_gen.output_parser import SubQuestionOutputParser"
   ]
  },
  {
   "cell_type": "code",
   "execution_count": 32,
   "id": "5d29dacd-86a8-405b-82f9-989b23fbf3ce",
   "metadata": {
    "tags": []
   },
   "outputs": [],
   "source": [
    "\n",
    "output=\"\"\"\\\n",
    "{\n",
    "  \"sub_questions\": [{\n",
    "  \"sub_question\": \"What is the revenue of Lyft\",\n",
    "  \"tool_name\": \"lyft_10k\"\n",
    "}, {\n",
    "  \"sub_question\": \"What is the EBITDA of Lyft\",\n",
    "  \"tool_name\": \"lyft_10k\"\n",
    "}]\n",
    "}\n",
    "\"\"\""
   ]
  },
  {
   "cell_type": "code",
   "execution_count": 33,
   "id": "e9a3f94a-09f4-435f-bfbf-b4bc1567c543",
   "metadata": {
    "tags": []
   },
   "outputs": [],
   "source": [
    "from llama_index.output_parsers.utils import parse_json_markdown\n",
    "\n",
    "import yaml"
   ]
  },
  {
   "cell_type": "code",
   "execution_count": 34,
   "id": "dc4bc15c-0cd3-4993-90b7-68e0d4376093",
   "metadata": {
    "tags": []
   },
   "outputs": [
    {
     "data": {
      "text/plain": [
       "{'sub_questions': [{'sub_question': 'What is the revenue of Lyft',\n",
       "   'tool_name': 'lyft_10k'},\n",
       "  {'sub_question': 'What is the EBITDA of Lyft', 'tool_name': 'lyft_10k'}]}"
      ]
     },
     "execution_count": 34,
     "metadata": {},
     "output_type": "execute_result"
    }
   ],
   "source": [
    "yaml.safe_load(output)"
   ]
  },
  {
   "cell_type": "code",
   "execution_count": 29,
   "id": "989c5048-e49b-4334-9cae-d127c0489d0a",
   "metadata": {
    "tags": []
   },
   "outputs": [
    {
     "ename": "NameError",
     "evalue": "name 'SubQuestionList' is not defined",
     "output_type": "error",
     "traceback": [
      "\u001b[0;31m---------------------------------------------------------------------------\u001b[0m",
      "\u001b[0;31mNameError\u001b[0m                                 Traceback (most recent call last)",
      "Cell \u001b[0;32mIn[29], line 2\u001b[0m\n\u001b[1;32m      1\u001b[0m json_dict \u001b[38;5;241m=\u001b[39m parse_json_markdown(output)\n\u001b[0;32m----> 2\u001b[0m sub_questions \u001b[38;5;241m=\u001b[39m \u001b[43mSubQuestionList\u001b[49m\u001b[38;5;241m.\u001b[39mparse_obj(json_dict)\n",
      "\u001b[0;31mNameError\u001b[0m: name 'SubQuestionList' is not defined"
     ]
    }
   ],
   "source": [
    "json_dict = parse_json_markdown(output)\n",
    "sub_questions = SubQuestionList.parse_obj(json_dict)"
   ]
  },
  {
   "cell_type": "code",
   "execution_count": null,
   "id": "14e4a8fa-f8d4-4d39-a3a5-738fec6dc593",
   "metadata": {},
   "outputs": [],
   "source": []
  }
 ],
 "metadata": {
  "kernelspec": {
   "display_name": "Python 3 (ipykernel)",
   "language": "python",
   "name": "python3"
  },
  "language_info": {
   "codemirror_mode": {
    "name": "ipython",
    "version": 3
   },
   "file_extension": ".py",
   "mimetype": "text/x-python",
   "name": "python",
   "nbconvert_exporter": "python",
   "pygments_lexer": "ipython3",
   "version": "3.9.16"
  }
 },
 "nbformat": 4,
 "nbformat_minor": 5
}
