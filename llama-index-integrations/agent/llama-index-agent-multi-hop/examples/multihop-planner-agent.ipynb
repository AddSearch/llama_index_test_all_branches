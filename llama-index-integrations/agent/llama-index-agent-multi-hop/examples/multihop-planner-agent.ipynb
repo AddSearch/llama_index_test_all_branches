{
 "cells": [
  {
   "cell_type": "markdown",
   "id": "095493de-ac9b-4b3c-9275-654ed2356af9",
   "metadata": {},
   "source": [
    "# MultiHop Planner Agent"
   ]
  },
  {
   "cell_type": "markdown",
   "id": "96d54d84-02fe-4fc7-9738-284eb3a68705",
   "metadata": {},
   "source": [
    "### Load the Data and create Tools"
   ]
  },
  {
   "cell_type": "code",
   "execution_count": null,
   "id": "ef39bd87-2ac0-4e35-a2fa-3b13e765d27d",
   "metadata": {},
   "outputs": [],
   "source": [
    "# !mkdir -p 'data/10k/'\n",
    "# !wget 'https://raw.githubusercontent.com/run-llama/llama_index/main/docs/docs/examples/data/10k/uber_2021.pdf' -O 'data/10k/uber_2021.pdf'\n",
    "# !wget 'https://raw.githubusercontent.com/run-llama/llama_index/main/docs/docs/examples/data/10k/lyft_2021.pdf' -O 'data/10k/lyft_2021.pdf'"
   ]
  },
  {
   "cell_type": "code",
   "execution_count": null,
   "id": "a60167af-5243-4a75-bd29-06ec303b0895",
   "metadata": {},
   "outputs": [],
   "source": [
    "from llama_index.core import Settings\n",
    "from llama_index.llms.openai import OpenAI\n",
    "from llama_index.embeddings.openai import OpenAIEmbedding\n",
    "\n",
    "Settings.llm = OpenAI(\n",
    "    model=\"gpt-4o\",\n",
    "    temperature=0.1,\n",
    ")\n",
    "Settings.embed_model = OpenAIEmbedding(model_name=\"text-embedding-3-small\")"
   ]
  },
  {
   "cell_type": "code",
   "execution_count": null,
   "id": "6a148ec8-3b6b-44c4-a5bf-0024197b0df8",
   "metadata": {},
   "outputs": [],
   "source": [
    "from llama_index.core import VectorStoreIndex, SimpleDirectoryReader, Document\n",
    "from llama_index.core.tools import QueryEngineTool\n",
    "\n",
    "index = VectorStoreIndex.from_documents([Document.example()])\n",
    "tool = QueryEngineTool.from_defaults(\n",
    "    index.as_query_engine(),\n",
    "    name=\"dummy\",\n",
    "    description=\"dummy\",\n",
    ")\n",
    "# # Load documents, create tools\n",
    "# lyft_documents = SimpleDirectoryReader(\n",
    "#     input_files=[\"./data/10k/lyft_2021.pdf\"]\n",
    "# ).load_data()\n",
    "# uber_documents = SimpleDirectoryReader(\n",
    "#     input_files=[\"./data/10k/uber_2021.pdf\"]\n",
    "# ).load_data()\n",
    "\n",
    "# lyft_index = VectorStoreIndex.from_documents(lyft_documents)\n",
    "# uber_index = VectorStoreIndex.from_documents(uber_documents)\n",
    "\n",
    "# lyft_tool = QueryEngineTool.from_defaults(\n",
    "#     lyft_index.as_query_engine(),\n",
    "#     name=\"lyft_2021\",\n",
    "#     description=\"Useful for asking questions about Lyft's 2021 10-K filling.\",\n",
    "# )\n",
    "\n",
    "# uber_tool = QueryEngineTool.from_defaults(\n",
    "#     uber_index.as_query_engine(),\n",
    "#     name=\"uber_2021\",\n",
    "#     description=\"Useful for asking questions about Uber's 2021 10-K filling.\",\n",
    "# )"
   ]
  },
  {
   "cell_type": "markdown",
   "id": "36c1c1af-f579-44b5-ae08-c88c9b159776",
   "metadata": {},
   "source": [
    "### Create Agent"
   ]
  },
  {
   "cell_type": "code",
   "execution_count": null,
   "id": "02dcdec1-391b-4e85-aa9d-5cc1a355ab1c",
   "metadata": {},
   "outputs": [],
   "source": [
    "from llama_index.core.agent import FunctionCallingAgentWorker\n",
    "from llama_index.agent.multi_hop.planner import MultiHopPlannerAgent\n",
    "\n",
    "# create the function calling worker for reasoning\n",
    "worker = FunctionCallingAgentWorker.from_tools([tool], verbose=True)\n",
    "\n",
    "# wrap the worker in the top-level planner\n",
    "agent = MultiHopPlannerAgent(worker, tools=[tool], verbose=True)"
   ]
  },
  {
   "cell_type": "code",
   "execution_count": null,
   "id": "ce423bfc-9723-42e5-8dad-bd748c5aaad4",
   "metadata": {},
   "outputs": [
    {
     "name": "stdout",
     "output_type": "stream",
     "text": [
      "=== Initial plan ===\n",
      "## Structured Context\n",
      "{\n",
      "    \"title\": \"StructuredContext\",\n",
      "    \"description\": \"Data class for holding data requirements to answer query\",\n",
      "    \"type\": \"object\",\n",
      "    \"properties\": {\n",
      "        \"uncle_maddios_pizza_joint_headquarters_location\": {\n",
      "            \"title\": \"Uncle Maddios Pizza Joint Headquarters Location\",\n",
      "            \"description\": \"The location of the headquarters of Uncle Maddio's Pizza Joint\",\n",
      "            \"type\": \"string\"\n",
      "        },\n",
      "        \"marcos_pizza_headquarters_location\": {\n",
      "            \"title\": \"Marcos Pizza Headquarters Location\",\n",
      "            \"description\": \"The location of the headquarters of Marco's Pizza\",\n",
      "            \"type\": \"string\"\n",
      "        },\n",
      "        \"restaurant_chain_headquartered_further_south\": {\n",
      "            \"title\": \"Restaurant Chain Headquartered Further South\",\n",
      "            \"description\": \"The restaurant chain that is headquartered further south based on the locations of Uncle Maddio's Pizza Joint and Marco's Pizza\",\n",
      "            \"type\": \"string\"\n",
      "        }\n",
      "    }\n",
      "}\n",
      "\n",
      "## Sub Tasks\n",
      "uncle_maddios_pizza_joint_headquarters_location:\n",
      "Extract this data field. -> The location of the headquarters of Uncle Maddio's Pizza Joint\n",
      "deps: []\n",
      "\n",
      "\n",
      "marcos_pizza_headquarters_location:\n",
      "Extract this data field. -> The location of the headquarters of Marco's Pizza\n",
      "deps: []\n",
      "\n",
      "\n",
      "restaurant_chain_headquartered_further_south:\n",
      "Extract this data field. -> The restaurant chain that is headquartered further south based on the locations of Uncle Maddio's Pizza Joint and Marco's Pizza\n",
      "deps: []\n",
      "\n",
      "\n",
      "merge_data_extractions:\n",
      "Use the provided data to fill in the StructuredContext data class. -> A StructuredContext object.\n",
      "deps: [\"Uncle Maddio's Pizza Joint headquarters location\", \"Marco's Pizza headquarters location\", 'restaurant chain headquartered further south']\n",
      "\n",
      "\n",
      "query_response_tasks:\n",
      "Which restaurant chain is headquartered further south, Uncle Maddio's Pizza Joint, or Marco's Pizza? -> Response to the query.\n",
      "deps: [\"Uncle Maddio's Pizza Joint headquarters location\", \"Marco's Pizza headquarters location\", 'restaurant chain headquartered further south', 'merge_data_extractions']\n",
      "\n",
      "\n"
     ]
    },
    {
     "data": {
      "text/plain": [
       "'5874152c-b9de-4331-8d3b-0962b2abf1d7'"
      ]
     },
     "execution_count": null,
     "metadata": {},
     "output_type": "execute_result"
    }
   ],
   "source": [
    "agent.create_plan(\n",
    "    input=\"Which restaurant chain is headquartered further south, Uncle Maddio's Pizza Joint, or Marco's Pizza?\"\n",
    ")"
   ]
  }
 ],
 "metadata": {
  "kernelspec": {
   "display_name": "llama-index-agent-multi-hop",
   "language": "python",
   "name": "llama-index-agent-multi-hop"
  },
  "language_info": {
   "codemirror_mode": {
    "name": "ipython",
    "version": 3
   },
   "file_extension": ".py",
   "mimetype": "text/x-python",
   "name": "python",
   "nbconvert_exporter": "python",
   "pygments_lexer": "ipython3"
  }
 },
 "nbformat": 4,
 "nbformat_minor": 5
}
