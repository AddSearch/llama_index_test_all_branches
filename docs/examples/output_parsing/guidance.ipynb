{
 "cells": [
  {
   "cell_type": "markdown",
   "id": "c58e17b3-ec09-4e07-8e2e-d19a8e24dd40",
   "metadata": {
    "tags": []
   },
   "source": [
    "# Guidance Question Generator"
   ]
  },
  {
   "cell_type": "code",
   "execution_count": 2,
   "id": "85b9e1d3-2f60-4730-8186-7c3c30b6dae5",
   "metadata": {
    "tags": []
   },
   "outputs": [
    {
     "name": "stdout",
     "output_type": "stream",
     "text": [
      "Requirement already satisfied: ruamel-yaml in /Users/suo/miniconda3/envs/llama/lib/python3.9/site-packages (0.17.22)\n",
      "Requirement already satisfied: ruamel.yaml.clib>=0.2.6 in /Users/suo/miniconda3/envs/llama/lib/python3.9/site-packages (from ruamel-yaml) (0.2.7)\n"
     ]
    }
   ],
   "source": [
    "from llama_index.question_gen.guidance_generator import GuidanceQuestionGenerator\n",
    "from llama_index.tools import ToolMetadata\n",
    "from llama_index import QueryBundle\n",
    "\n",
    "from guidance.llms import OpenAI"
   ]
  },
  {
   "cell_type": "code",
   "execution_count": 10,
   "id": "0df7f8ad-c026-4bfc-9a12-52efcb24f9d5",
   "metadata": {
    "tags": []
   },
   "outputs": [],
   "source": [
    "question_gen = GuidanceQuestionGenerator.from_defaults(guidance_llm=OpenAI('text-davinci-003'), verbose=False)"
   ]
  },
  {
   "cell_type": "code",
   "execution_count": 11,
   "id": "77106a07-bccf-471d-8d85-c6438772cf35",
   "metadata": {
    "tags": []
   },
   "outputs": [],
   "source": [
    "tools =  [\n",
    "    ToolMetadata(name='lyft_10k', description='Provides information about Lyft financials for year 2021'),\n",
    "    ToolMetadata(name='uber_10k', description='Provides information about Uber financials for year 2021')\n",
    "]"
   ]
  },
  {
   "cell_type": "code",
   "execution_count": 13,
   "id": "82ed271a-bd0d-4b6a-b9e3-987d75f6a4ad",
   "metadata": {
    "tags": []
   },
   "outputs": [],
   "source": [
    "sub_questions = question_gen.generate(tools=tools, query=QueryBundle('Compare and contrast Uber and Lyft financial in 2021'))"
   ]
  },
  {
   "cell_type": "code",
   "execution_count": 14,
   "id": "2740e60e-c4e6-412a-b46f-70a1f3fe1231",
   "metadata": {
    "tags": []
   },
   "outputs": [
    {
     "data": {
      "text/plain": [
       "[SubQuestion(sub_question='What is the revenue of Uber', tool_name='uber_10k'),\n",
       " SubQuestion(sub_question='What is the EBITDA of Uber', tool_name='uber_10k'),\n",
       " SubQuestion(sub_question='What is the net income of Uber', tool_name='uber_10k'),\n",
       " SubQuestion(sub_question='What is the revenue of Lyft', tool_name='lyft_10k'),\n",
       " SubQuestion(sub_question='What is the EBITDA of Lyft', tool_name='lyft_10k'),\n",
       " SubQuestion(sub_question='What is the net income of Lyft', tool_name='lyft_10k')]"
      ]
     },
     "execution_count": 14,
     "metadata": {},
     "output_type": "execute_result"
    }
   ],
   "source": [
    "sub_questions"
   ]
  }
 ],
 "metadata": {
  "kernelspec": {
   "display_name": "Python 3 (ipykernel)",
   "language": "python",
   "name": "python3"
  },
  "language_info": {
   "codemirror_mode": {
    "name": "ipython",
    "version": 3
   },
   "file_extension": ".py",
   "mimetype": "text/x-python",
   "name": "python",
   "nbconvert_exporter": "python",
   "pygments_lexer": "ipython3",
   "version": "3.9.16"
  }
 },
 "nbformat": 4,
 "nbformat_minor": 5
}
