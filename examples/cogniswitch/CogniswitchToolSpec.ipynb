{
 "cells": [
  {
   "cell_type": "markdown",
   "id": "d19fac66",
   "metadata": {},
   "source": [
    "## Cogniswitch ToolSpec\n",
    "\n",
    "**Use CogniSwitch to build production ready applications that can consume, organize and retrieve knowledge flawlessly. Using the framework of your choice, in this case LlamaIndex, CogniSwitch helps alleviate the stress of decision making when it comes to, choosing the right storage and retrieval formats. It also eradicates reliability issues and hallucinations when it comes to responses that are generated. Get started by interacting with your knowledge in just three simple steps**\n",
    "\n",
    "visit [https://www.cogniswitch.ai/developer](https://www.cogniswitch.ai/developer?utm_source=llamaindex&utm_medium=llamaindexbuild&utm_id=dev).<br>\n",
    "\n",
    "**Registration:**\n",
    "- Signup with your email and verify your registration\n",
    "- You will get a mail with a platform token and OAuth token for using the services.\n",
    "\n",
    "\n",
    "**Step 1: Instantiate the Cogniswitch ToolSpec:**<br>\n",
    "- Use your Cogniswitch token, OpenAI API key, OAuth token to instantiate the toolspec. <br> \n",
    "\n",
    "**Step 2: Cogniswitch Store data:**<br>\n",
    "- use store_data function in the toolspec and input your file or url. <br>\n",
    "- it will be processed and stored in your knowledge store. <br> \n",
    "- you can check the status of document processing in Cogniswitch console. <br>\n",
    "\n",
    "**Step 3: Cogniswitch Answer:**<br>\n",
    "- Use query_knowledge function in the toolspec and input your query. <br>\n",
    "- You will get the answer from your knowledge as the response. <br>\n"
   ]
  },
  {
   "cell_type": "markdown",
   "id": "ce6a1c44",
   "metadata": {},
   "source": [
    "### Import Required Libraries"
   ]
  },
  {
   "cell_type": "code",
   "execution_count": null,
   "id": "eaeca557",
   "metadata": {},
   "outputs": [],
   "source": [
    "import warnings\n",
    "\n",
    "warnings.filterwarnings(\"ignore\")\n",
    "from llama_hub.tools import CogniswitchToolSpec"
   ]
  },
  {
   "cell_type": "markdown",
   "id": "eecaa97a",
   "metadata": {},
   "source": [
    "### Cogniswitch Credentials and OpenAI token"
   ]
  },
  {
   "cell_type": "code",
   "execution_count": null,
   "id": "67ddc803",
   "metadata": {},
   "outputs": [],
   "source": [
    "cs_token = <your cogniswitch platform token>\n",
    "OAI_token = <your openai token>\n",
    "oauth_token = <your cogniswitch apikey>"
   ]
  },
  {
   "cell_type": "markdown",
   "id": "7a6db5a6",
   "metadata": {},
   "source": [
    "### Instantiate the Tool Spec"
   ]
  },
  {
   "cell_type": "code",
   "execution_count": null,
   "id": "38c9c80a",
   "metadata": {},
   "outputs": [],
   "source": [
    "toolspec = CogniswitchToolSpec(\n",
    "    cs_token=cs_token, OAI_token=OAI_token, apiKey=oauth_token\n",
    ")"
   ]
  },
  {
   "cell_type": "markdown",
   "id": "577c961e",
   "metadata": {},
   "source": [
    "### Use the Tool Spec for storing data in cogniswitch with a single call"
   ]
  },
  {
   "cell_type": "code",
   "execution_count": null,
   "id": "adcb8b53",
   "metadata": {},
   "outputs": [
    {
     "name": "stdout",
     "output_type": "stream",
     "text": [
      "{'data': {'knowledgeSourceId': 39, 'sourceType': 'https://cogniswitch.ai/dev', 'sourceURL': None, 'sourceFileName': None, 'sourceName': None, 'sourceDescription': None, 'status': 'UPLOADED'}, 'list': None, 'message': \"We're processing your content & will send you an email on completion, hang tight!\", 'statusCode': 1000}\n"
     ]
    }
   ],
   "source": [
    "store_response = toolspec.store_data(\n",
    "    url=\"https://cogniswitch.ai/dev\",\n",
    "    document_name=\"Cogniswitch dev\",\n",
    "    document_description=\"This is a cogniswitch website for developers.\",\n",
    ")\n",
    "print(store_response)"
   ]
  },
  {
   "cell_type": "markdown",
   "id": "52ddf809",
   "metadata": {},
   "source": [
    "### Use Tool Spec for answering using the query knowledge with a single call"
   ]
  },
  {
   "cell_type": "code",
   "execution_count": null,
   "id": "2544cdc9",
   "metadata": {},
   "outputs": [
    {
     "name": "stdout",
     "output_type": "stream",
     "text": [
      "{'data': {'answer': 'CogniSwitch is a technology platform that enhances the reliability of Generative AI applications for enterprises. It achieves this by leveraging AI to gather and organize knowledge from documented sources, eliminating biases and hallucinations in AI responses. The platform allows experts to curate and visualize this knowledge before it is published. The CogniSwitch API enables Gen AI applications to access this knowledge as needed, ensuring reliability. It seamlessly integrates with top Generative AI technologies and offers customized solutions for different business functions within an enterprise.'}, 'list': None, 'message': None, 'statusCode': 1000}\n"
     ]
    }
   ],
   "source": [
    "answer_response = toolspec.query_knowledge(\"tell me about cogniswitch\")\n",
    "print(answer_response)"
   ]
  }
 ],
 "metadata": {
  "kernelspec": {
   "display_name": "llama_index_env",
   "language": "python",
   "name": "llama_index_env"
  },
  "language_info": {
   "codemirror_mode": {
    "name": "ipython",
    "version": 3
   },
   "file_extension": ".py",
   "mimetype": "text/x-python",
   "name": "python",
   "nbconvert_exporter": "python",
   "pygments_lexer": "ipython3"
  }
 },
 "nbformat": 4,
 "nbformat_minor": 5
}
