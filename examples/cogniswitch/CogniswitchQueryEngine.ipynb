{
 "cells": [
  {
   "cell_type": "markdown",
   "id": "d19fac66",
   "metadata": {},
   "source": [
    "## CogniswitchQueryEngine\n",
    "\n",
    "**Use CogniSwitch to build production ready applications that can consume, organize and retrieve knowledge flawlessly. Using the framework of your choice, in this case LlamaIndex, CogniSwitch helps alleviate the stress of decision making when it comes to, choosing the right storage and retrieval formats. It also eradicates reliability issues and hallucinations when it comes to responses that are generated. Get started by interacting with your knowledge in simple steps**\n",
    "\n",
    "visit [https://www.cogniswitch.ai/developer](https://www.cogniswitch.ai/developer?utm_source=llamaindex&utm_medium=llamaindexbuild&utm_id=dev).<br>\n",
    "\n",
    "**Registration:**\n",
    "- Signup with your email and verify your registration.<br>\n",
    "- You will get a mail with a platform token and OAuth token for using the services.<br>\n",
    "\n",
    "**Upload Knowledge:**\n",
    "- There are two ways to add your knowledge into Cogniswitch.\n",
    "1. You can sign-in to Cogniswitch website and upload your document files or submit a url from the Document Upload page.<br>\n",
    "2. You can use the CogniswitchToolSpec in llama-hub tools to add document or a url in Cogniswitch.<br> \n",
    "\n",
    "**CogniswitchQueryEngine:**<br>\n",
    "- Instantiate the CogniswitchQueryEngine with the tokens and API keys.<br>\n",
    "- Use query_knowledge function in the Query Engine and input your query. <br>\n",
    "- You will get the answer from your knowledge as the response. <br>\n"
   ]
  },
  {
   "cell_type": "markdown",
   "id": "ce6a1c44",
   "metadata": {},
   "source": [
    "### Import Required Libraries"
   ]
  },
  {
   "cell_type": "code",
   "execution_count": 3,
   "id": "eaeca557",
   "metadata": {},
   "outputs": [],
   "source": [
    "import warnings\n",
    "warnings.filterwarnings(\"ignore\")\n",
    "from llama_index.query_engine import CogniswitchQueryEngine"
   ]
  },
  {
   "cell_type": "markdown",
   "id": "eecaa97a",
   "metadata": {},
   "source": [
    "### Cogniswitch Credentials and OpenAI token"
   ]
  },
  {
   "cell_type": "code",
   "execution_count": 2,
   "id": "67ddc803",
   "metadata": {},
   "outputs": [],
   "source": [
    "# cs_token = <your cogniswitch platform token>\n",
    "# OAI_token = <your openai token>\n",
    "# oauth_token = <your cogniswitch apikey>"
   ]
  },
  {
   "cell_type": "markdown",
   "id": "7a6db5a6",
   "metadata": {},
   "source": [
    "### Instantiate the Query Engine"
   ]
  },
  {
   "cell_type": "code",
   "execution_count": 5,
   "id": "38c9c80a",
   "metadata": {},
   "outputs": [],
   "source": [
    "query_engine = CogniswitchQueryEngine(cs_token=cs_token, OAI_token=OAI_token, apiKey=oauth_token)"
   ]
  },
  {
   "cell_type": "markdown",
   "id": "52ddf809",
   "metadata": {},
   "source": [
    "### Use the query_engine to chat with your knowledge"
   ]
  },
  {
   "cell_type": "code",
   "execution_count": 6,
   "id": "2544cdc9",
   "metadata": {},
   "outputs": [
    {
     "name": "stdout",
     "output_type": "stream",
     "text": [
      "CogniSwitch is a technology platform that enhances the reliability of Generative AI applications for enterprises. It achieves this by leveraging AI to gather and organize knowledge from documented sources, eliminating biases and hallucinations in AI responses. The platform allows experts to curate and visualize this knowledge before it is published. The CogniSwitch API enables Gen AI applications to access this knowledge on-demand, ensuring reliability. It seamlessly integrates with top-notch Generative AI technologies and offers customized solutions for different business functions within an enterprise.\n"
     ]
    }
   ],
   "source": [
    "answer_response = query_engine.query_knowledge(\"tell me about cogniswitch\")\n",
    "print(answer_response)"
   ]
  }
 ],
 "metadata": {
  "kernelspec": {
   "display_name": "llama_index_env",
   "language": "python",
   "name": "llama_index_env"
  },
  "language_info": {
   "codemirror_mode": {
    "name": "ipython",
    "version": 3
   },
   "file_extension": ".py",
   "mimetype": "text/x-python",
   "name": "python",
   "nbconvert_exporter": "python",
   "pygments_lexer": "ipython3",
   "version": "3.9.18"
  }
 },
 "nbformat": 4,
 "nbformat_minor": 5
}
